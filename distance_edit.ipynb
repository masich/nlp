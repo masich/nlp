{
 "cells": [
  {
   "cell_type": "code",
   "execution_count": 60,
   "metadata": {},
   "outputs": [],
   "source": [
    "from enum import unique, Enum, auto\n",
    "from typing import List, Callable, Dict, Any, Tuple"
   ]
  },
  {
   "cell_type": "code",
   "execution_count": 61,
   "outputs": [],
   "source": [
    "def cost_matrix(first_str: str, second_str: str, key_func: Callable) -> List[List[int]]:\n",
    "    \"\"\"\n",
    "    Generate a cost matrix for `first_str` and `second_str`.\n",
    "    \"\"\"\n",
    "    matrix_rows = list()\n",
    "    first_len, second_len = len(first_str), len(second_str\n",
    "                                                )\n",
    "    previous_row = list(range(second_len + 1))\n",
    "\n",
    "    for i in range(first_len):\n",
    "        matrix_rows.append(previous_row)\n",
    "        current_row = [i + 1]\n",
    "        for j in range(second_len):\n",
    "            insertion_count = previous_row[j + 1] + 1\n",
    "            deletion_count = current_row[j] + 1\n",
    "            is_equal_key = key_func(first_str[i]) == key_func(second_str[j])\n",
    "            substitution_count = int(not is_equal_key) + previous_row[j]\n",
    "            current_row.append(min(insertion_count, deletion_count, substitution_count))\n",
    "        previous_row = current_row\n",
    "    else:\n",
    "        matrix_rows.append(previous_row)\n",
    "\n",
    "    return matrix_rows"
   ],
   "metadata": {
    "collapsed": false,
    "pycharm": {
     "name": "#%%\n"
    }
   }
  },
  {
   "cell_type": "code",
   "execution_count": 62,
   "metadata": {},
   "outputs": [],
   "source": [
    "@unique\n",
    "class Type(str, Enum):\n",
    "    \"\"\"\n",
    "    Operation type for edits.\n",
    "    \"\"\"\n",
    "    MATCH = auto()\n",
    "    SUBSTITUTION = auto()\n",
    "    DELETION = auto()\n",
    "    INSERTION = auto()\n",
    "\n",
    "def backtrace(first_str: str, second_str: str, matrix_rows: List[List[int]]) -> List[Dict[str, Any]]:\n",
    "    \"\"\"\n",
    "    Back trace and generate edits.\n",
    "    \"\"\"\n",
    "    first_len, second_len = len(first_str), len(second_str)\n",
    "    i, j = first_len, second_len\n",
    "    distance_edits = list()\n",
    " \n",
    "    while any((i, j)):\n",
    "        previous_cost, neighbors = matrix_rows[i][j], list()\n",
    "        neighbors.append(matrix_rows[i - 1][j - 1])\n",
    "        if i:\n",
    "            neighbors.append(matrix_rows[i - 1][j])\n",
    "        if j:\n",
    "            neighbors.append(matrix_rows[i][j - 1])\n",
    "\n",
    "        min_cost = min(neighbors)\n",
    "        _type = None\n",
    "        if min_cost == previous_cost:\n",
    "            i, j, _type= i - 1, j - 1, Type.MATCH\n",
    "        elif i and j and min_cost == matrix_rows[i - 1][j - 1]:\n",
    "            i, j, _type = i - 1, j - 1, Type.SUBSTITUTION\n",
    "        elif i and min_cost == matrix_rows[i - 1][j]:\n",
    "            i, j, _type = i - 1, j, Type.DELETION\n",
    "        elif j and min_cost == matrix_rows[i][j - 1]:\n",
    "            i, j, _type = i, j - 1, Type.INSERTION\n",
    "        if _type:\n",
    "            distance_edits.append({'type': str(_type), 'i':i, 'j':j})\n",
    "    else:\n",
    "        distance_edits.reverse()\n",
    "\n",
    "    return distance_edits"
   ]
  },
  {
   "cell_type": "code",
   "execution_count": 63,
   "metadata": {},
   "outputs": [],
   "source": [
    "def levenshtein(first_str: str, second_str: str) -> Tuple[int, List[Dict[str, Any]]]:\n",
    "    \"\"\"\n",
    "    Calculate a levenshtein distance and edits for `first_str` and `second_str`.\n",
    "    \"\"\"\n",
    "    matrix_rows = cost_matrix(first_str, second_str, hash)\n",
    "    return matrix_rows[-1][-1], backtrace(first_str, second_str, matrix_rows)"
   ]
  },
  {
   "cell_type": "code",
   "execution_count": 64,
   "metadata": {},
   "outputs": [
    {
     "data": {
      "text/plain": "(3,\n [{'type': 'Type.MATCH', 'i': 0, 'j': 0},\n  {'type': 'Type.INSERTION', 'i': 1, 'j': 1},\n  {'type': 'Type.SUBSTITUTION', 'i': 1, 'j': 2},\n  {'type': 'Type.MATCH', 'i': 2, 'j': 3},\n  {'type': 'Type.MATCH', 'i': 3, 'j': 4},\n  {'type': 'Type.MATCH', 'i': 4, 'j': 5},\n  {'type': 'Type.INSERTION', 'i': 5, 'j': 6}])"
     },
     "execution_count": 64,
     "metadata": {},
     "output_type": "execute_result"
    }
   ],
   "source": [
    "levenshtein('HONDA', 'HYUNDAI')"
   ]
  },
  {
   "cell_type": "code",
   "execution_count": 65,
   "metadata": {},
   "outputs": [
    {
     "data": {
      "text/plain": "(2,\n [{'type': 'Type.MATCH', 'i': 0, 'j': 0},\n  {'type': 'Type.MATCH', 'i': 1, 'j': 1},\n  {'type': 'Type.MATCH', 'i': 2, 'j': 2},\n  {'type': 'Type.INSERTION', 'i': 3, 'j': 3},\n  {'type': 'Type.SUBSTITUTION', 'i': 3, 'j': 4},\n  {'type': 'Type.MATCH', 'i': 4, 'j': 5},\n  {'type': 'Type.MATCH', 'i': 5, 'j': 6}])"
     },
     "execution_count": 65,
     "metadata": {},
     "output_type": "execute_result"
    }
   ],
   "source": [
    "levenshtein('kitten', 'kitchen')"
   ]
  },
  {
   "cell_type": "code",
   "execution_count": 66,
   "metadata": {
    "pycharm": {
     "name": "#%%\n"
    }
   },
   "outputs": [
    {
     "data": {
      "text/plain": "(1,\n [{'type': 'Type.SUBSTITUTION', 'i': 0, 'j': 0},\n  {'type': 'Type.MATCH', 'i': 1, 'j': 1},\n  {'type': 'Type.MATCH', 'i': 2, 'j': 2},\n  {'type': 'Type.MATCH', 'i': 3, 'j': 3},\n  {'type': 'Type.MATCH', 'i': 4, 'j': 4},\n  {'type': 'Type.MATCH', 'i': 5, 'j': 5}])"
     },
     "execution_count": 66,
     "metadata": {},
     "output_type": "execute_result"
    }
   ],
   "source": [
    "levenshtein('kitten', 'bitten')"
   ]
  }
 ],
 "metadata": {
  "kernelspec": {
   "display_name": "Python 3",
   "language": "python",
   "name": "python3"
  },
  "language_info": {
   "codemirror_mode": {
    "name": "ipython",
    "version": 3
   },
   "file_extension": ".py",
   "mimetype": "text/x-python",
   "name": "python",
   "nbconvert_exporter": "python",
   "pygments_lexer": "ipython3",
   "version": "3.8.5"
  }
 },
 "nbformat": 4,
 "nbformat_minor": 4
}