{
 "cells": [
  {
   "cell_type": "code",
   "execution_count": 47,
   "metadata": {},
   "outputs": [],
   "source": [
    "import pandas as pd\n",
    "from sklearn.feature_extraction.text import CountVectorizer\n",
    "from sklearn.metrics import classification_report\n",
    "from sklearn.model_selection import train_test_split\n",
    "from sklearn.naive_bayes import MultinomialNB"
   ]
  },
  {
   "cell_type": "code",
   "execution_count": 48,
   "metadata": {},
   "outputs": [],
   "source": [
    "df = pd.read_csv('data/Apple-Twitter-Sentiment-DFE.csv')"
   ]
  },
  {
   "cell_type": "code",
   "execution_count": 49,
   "metadata": {},
   "outputs": [
    {
     "data": {
      "text/plain": "    _unit_id _last_judgment_at sentiment  sentiment:confidence  \\\n0  623495519               NaN  positive                0.8468   \n1  623495520               NaN  positive                0.6736   \n2  623495523               NaN  negative                1.0000   \n3  623495526    12/12/14 21:38  positive                1.0000   \n4  623495527               NaN  negative                1.0000   \n\n                             date            id            query  \\\n0  Mon Dec 01 20:32:45 +0000 2014  5.400000e+17  #AAPL OR @Apple   \n1  Mon Dec 01 20:34:31 +0000 2014  5.400000e+17  #AAPL OR @Apple   \n2  Mon Dec 01 20:46:01 +0000 2014  5.400000e+17  #AAPL OR @Apple   \n3  Mon Dec 01 21:03:32 +0000 2014  5.400000e+17  #AAPL OR @Apple   \n4  Mon Dec 01 21:09:50 +0000 2014  5.400000e+17  #AAPL OR @Apple   \n\n                                                text  \n0  Top 3 all @Apple #tablets. Damn right! http://...  \n1  CNBCTV: #Apple's margins better than expected?...  \n2  WTF MY BATTERY WAS 31% ONE SECOND AGO AND NOW ...  \n3  RT @peterpham: Bought my @AugustSmartLock at t...  \n4  @apple Contact sync between Yosemite and iOS8 ...  ",
      "text/html": "<div>\n<style scoped>\n    .dataframe tbody tr th:only-of-type {\n        vertical-align: middle;\n    }\n\n    .dataframe tbody tr th {\n        vertical-align: top;\n    }\n\n    .dataframe thead th {\n        text-align: right;\n    }\n</style>\n<table border=\"1\" class=\"dataframe\">\n  <thead>\n    <tr style=\"text-align: right;\">\n      <th></th>\n      <th>_unit_id</th>\n      <th>_last_judgment_at</th>\n      <th>sentiment</th>\n      <th>sentiment:confidence</th>\n      <th>date</th>\n      <th>id</th>\n      <th>query</th>\n      <th>text</th>\n    </tr>\n  </thead>\n  <tbody>\n    <tr>\n      <th>0</th>\n      <td>623495519</td>\n      <td>NaN</td>\n      <td>positive</td>\n      <td>0.8468</td>\n      <td>Mon Dec 01 20:32:45 +0000 2014</td>\n      <td>5.400000e+17</td>\n      <td>#AAPL OR @Apple</td>\n      <td>Top 3 all @Apple #tablets. Damn right! http://...</td>\n    </tr>\n    <tr>\n      <th>1</th>\n      <td>623495520</td>\n      <td>NaN</td>\n      <td>positive</td>\n      <td>0.6736</td>\n      <td>Mon Dec 01 20:34:31 +0000 2014</td>\n      <td>5.400000e+17</td>\n      <td>#AAPL OR @Apple</td>\n      <td>CNBCTV: #Apple's margins better than expected?...</td>\n    </tr>\n    <tr>\n      <th>2</th>\n      <td>623495523</td>\n      <td>NaN</td>\n      <td>negative</td>\n      <td>1.0000</td>\n      <td>Mon Dec 01 20:46:01 +0000 2014</td>\n      <td>5.400000e+17</td>\n      <td>#AAPL OR @Apple</td>\n      <td>WTF MY BATTERY WAS 31% ONE SECOND AGO AND NOW ...</td>\n    </tr>\n    <tr>\n      <th>3</th>\n      <td>623495526</td>\n      <td>12/12/14 21:38</td>\n      <td>positive</td>\n      <td>1.0000</td>\n      <td>Mon Dec 01 21:03:32 +0000 2014</td>\n      <td>5.400000e+17</td>\n      <td>#AAPL OR @Apple</td>\n      <td>RT @peterpham: Bought my @AugustSmartLock at t...</td>\n    </tr>\n    <tr>\n      <th>4</th>\n      <td>623495527</td>\n      <td>NaN</td>\n      <td>negative</td>\n      <td>1.0000</td>\n      <td>Mon Dec 01 21:09:50 +0000 2014</td>\n      <td>5.400000e+17</td>\n      <td>#AAPL OR @Apple</td>\n      <td>@apple Contact sync between Yosemite and iOS8 ...</td>\n    </tr>\n  </tbody>\n</table>\n</div>"
     },
     "execution_count": 49,
     "metadata": {},
     "output_type": "execute_result"
    }
   ],
   "source": [
    "df.head()"
   ]
  },
  {
   "cell_type": "code",
   "execution_count": 50,
   "metadata": {},
   "outputs": [],
   "source": [
    "x_train, x_test, y_train, y_test = train_test_split(df['text'], df['sentiment'], random_state=42)"
   ]
  },
  {
   "cell_type": "code",
   "execution_count": 51,
   "metadata": {},
   "outputs": [],
   "source": [
    "vectorizer = CountVectorizer(strip_accents='ascii', token_pattern=r'(?ui)\\b\\w*[a-z]+\\w*\\b', lowercase=True, stop_words='english')"
   ]
  },
  {
   "cell_type": "code",
   "execution_count": 52,
   "metadata": {},
   "outputs": [],
   "source": [
    "x_train_cv, x_test_cv = vectorizer.fit_transform(x_train), vectorizer.transform(x_test)"
   ]
  },
  {
   "cell_type": "code",
   "execution_count": 53,
   "metadata": {},
   "outputs": [],
   "source": [
    "bayes = MultinomialNB()"
   ]
  },
  {
   "cell_type": "code",
   "execution_count": 54,
   "metadata": {},
   "outputs": [
    {
     "data": {
      "text/plain": "MultinomialNB()"
     },
     "execution_count": 54,
     "metadata": {},
     "output_type": "execute_result"
    }
   ],
   "source": [
    "bayes.fit(x_train_cv, y_train)"
   ]
  },
  {
   "cell_type": "code",
   "execution_count": 55,
   "metadata": {},
   "outputs": [],
   "source": [
    "predictions = bayes.predict(x_test_cv)"
   ]
  },
  {
   "cell_type": "code",
   "execution_count": 56,
   "metadata": {
    "pycharm": {
     "name": "#%%\n"
    }
   },
   "outputs": [
    {
     "name": "stdout",
     "output_type": "stream",
     "text": [
      "              precision    recall  f1-score   support\n",
      "\n",
      "    negative       0.88      0.96      0.92       312\n",
      "    positive       0.81      0.58      0.67        99\n",
      "\n",
      "    accuracy                           0.87       411\n",
      "   macro avg       0.85      0.77      0.80       411\n",
      "weighted avg       0.86      0.87      0.86       411\n",
      "\n"
     ]
    }
   ],
   "source": [
    "print(classification_report(y_test, predictions))"
   ]
  }
 ],
 "metadata": {
  "kernelspec": {
   "display_name": "Python 3",
   "language": "python",
   "name": "python3"
  },
  "language_info": {
   "codemirror_mode": {
    "name": "ipython",
    "version": 3
   },
   "file_extension": ".py",
   "mimetype": "text/x-python",
   "name": "python",
   "nbconvert_exporter": "python",
   "pygments_lexer": "ipython3",
   "version": "3.8.5"
  }
 },
 "nbformat": 4,
 "nbformat_minor": 4
}